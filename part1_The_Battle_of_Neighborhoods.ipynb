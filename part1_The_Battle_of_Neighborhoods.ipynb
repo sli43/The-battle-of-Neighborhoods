{
  "nbformat": 4,
  "nbformat_minor": 0,
  "metadata": {
    "colab": {
      "name": "Copy of The Battle of Neighborhoods.ipynb",
      "provenance": [],
      "collapsed_sections": []
    },
    "kernelspec": {
      "name": "python3",
      "display_name": "Python 3"
    }
  },
  "cells": [
    {
      "cell_type": "markdown",
      "metadata": {
        "id": "GTF3sUkWPRpD"
      },
      "source": [
        "1. Discussion and Background of the Business Problem"
      ]
    },
    {
      "cell_type": "markdown",
      "metadata": {
        "id": "Jd0GI9LxLZcK"
      },
      "source": [
        "**Introduction Section**\n",
        "\n",
        "This final project explores the best locations for Chinese restaurants throughout the Queens of New York. New york is a major metropolitan area with more than 8.4 million (Quick Facts, 2018) people living within city limits. New York City is the largest city in the united states with a long history of international immigration. The New York metropolitan area is home to the largest and most prominent ethnic Chinese population outside of Asia, hosting Chinese populations representing all 34 provincial-level administrative units of China and constituting the largest metropolitan Asian American group in the United States as well as the largest Asian-national metropolitan diaspora in the Western Hemisphere. The Chinese American population of the New York City metropolitan area was an estimated 893,697 as of 2017. New York City itself contains by far the highest ethnic Chinese population of any individual city outside Asia, estimated at 628,763 as of 2017.\n",
        "\n"
      ]
    },
    {
      "cell_type": "markdown",
      "metadata": {
        "id": "t68CbUbpMx_F"
      },
      "source": [
        "**Target Audience**\n",
        "\n",
        "\n",
        "\n",
        "*   Business personnel who wants to invest or open a restaurant in New York\n",
        "*   The freelancer who loves to have their own restaurant as a side business\n",
        "*   Finding the best location for opening a restuarant\n",
        "*   Budding data Scientists, who want to implement some of the most used\n",
        "\n",
        "\n",
        "\n",
        "\n"
      ]
    },
    {
      "cell_type": "markdown",
      "metadata": {
        "id": "OPTSB5nsNcyW"
      },
      "source": [
        "**Data Section**\n",
        "\n",
        "For this project, we need the following data:\n",
        "1. New York city data that contains Borough, Neighborhoods alongwith there latitude and longitude\n",
        "\n",
        "\n",
        "*   Data Souce: https://cocl.us/new_york_dataset\n",
        "*   Description: This data set contains the required information. We can use this data set to explore various neighborhoods of new York city.\n",
        "\n",
        "2. Chinese restaurants in Queens neighborhood of New York City\n",
        "\n",
        "*   Data Source: Foursquare API\n",
        "*   Description: by using this API we can get all the venues in the Queens neighborhood. We can filter these venues to get only chinese restaurants\n",
        "\n",
        "\n",
        "\n"
      ]
    },
    {
      "cell_type": "markdown",
      "metadata": {
        "id": "S-YfmFg6OT5o"
      },
      "source": [
        "**Approach**\n",
        "\n",
        "1. collect New York city data from  https://cocl.us/new_york_dataset\n",
        "2. Using Foursquare API, we will get all venues for each neighborhood\n",
        "3. Filter out all venues which are Chinese restuarants\n",
        "3. Data visualization and statistical analysis\n",
        "4. Analyzing using KMeans clustering\n",
        "5. compare the Neighborhoods to find the best place for starting up a restautant\n",
        "6. Inference from these results and related conclusions"
      ]
    },
    {
      "cell_type": "markdown",
      "metadata": {
        "id": "aNJkydzYO8Lr"
      },
      "source": [
        "**Problem Statement**\n",
        "\n",
        "1. what is the best location for a Chinese restaurant in Queens, New York City?\n",
        "2. In what Neighborhood should I open a Chinese restaurant to have the best chance of being successful?\n"
      ]
    },
    {
      "cell_type": "code",
      "metadata": {
        "id": "f27tcNq3O6Gt"
      },
      "source": [
        ""
      ],
      "execution_count": null,
      "outputs": []
    }
  ]
}